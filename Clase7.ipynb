{
 "cells": [
  {
   "cell_type": "markdown",
   "id": "e220aee3-9da6-45b6-b772-180a2895b619",
   "metadata": {
    "tags": []
   },
   "source": [
    "# **Introducción a la Ciencia de Datos con Python** \n",
    "## **Módulo 1** : Introducción a la Programación con Python\n",
    "## Clase 7 - Martes 23/08/2022\n",
    "##\n",
    "----\n",
    "¿Qué veremos?\n",
    "* Revisión de ejercicios anteriores\n",
    "* Función:\n",
    "  * Concepto\n",
    "  * Definición en Python. Partes.\n",
    "  * Estructura de un script Python.\n",
    "  * Parámetros por posición y por nombre\n",
    "  * Parámetros por defecto\n",
    "  * Variables locales y globales\n",
    "  * Forma de documentar en Python\n",
    "  * Paso de parámetros con diferentes tipos\n",
    " \n",
    "* Ejercicios de práctica\n",
    "\n",
    "\n",
    "## Función\n",
    "\n",
    "Permite definir código independiente parametrizable. \n",
    "\n",
    "Su formato básico es:\n",
    "```shell\n",
    "     def <nombre_funcion> ( <lista_parametros> ) [ -> <tipo> ] :\n",
    "         <bloque_codigo>\n",
    "```\n",
    "Donde `<nombre_funcion>` es un identificador único que respeta la formación de identificadores.\n",
    "`<lista_parametros>` es la lista de parámetros que puede estar vacía, indicar un a cantidad fija de parámetros o una cantidad variable de parámetros.\n",
    "\n",
    "Opcionalmente, y de forma informativa, se puede especificar el tipo de dato que genera la función por medio de `-> <tipo>:`\n",
    "\n",
    "Una función puede retornar un valor o no retornar nada. El nombre usual cuando no se retorna nada es procedimiento.\n",
    "\n",
    "Para retornar un valor se utiliza la palabra reservada `return` seguido del valor o expresión a retornar. Es posible tener varios `return` dentro de la función.\n",
    "\n",
    "Los parámetros y variables definidas en el ámbito de la función solo viven en la función, y son solo referenciables en ese ámbito. \n"
   ]
  },
  {
   "cell_type": "code",
   "execution_count": 44,
   "id": "c258892d-f112-4303-8291-92db9ee1e313",
   "metadata": {},
   "outputs": [
    {
     "name": "stdout",
     "output_type": "stream",
     "text": [
      "Lista de cuadrado de 0 al 20 [0, 1, 4, 9, 16, 25, 36, 49, 64, 81, 100, 121, 144, 169, 196, 225, 256, 289, 324, 361, 400]\n"
     ]
    }
   ],
   "source": [
    "# Ejemplo sencillo de uso de función\n",
    "# Definir una función que retorne el cuadrado de un número\n",
    "# Generar una lista con los primeros 20 cuadrados de 0 a 20.   \n",
    "\n",
    "\n",
    "def cuadrado(n) -> int :  # recordar que -> es solo informativo, puede no colocarse\n",
    "    \"\"\"Retorna el cuadrado de n\"\"\"\n",
    "    return n**2\n",
    "\n",
    "# usualmente el código principal viene aquí abajo\n",
    "# aunque se puede intercalar código principal con\n",
    "# definiciones de funciones\n",
    "\n",
    "cuadrados = [ cuadrado(n) for n in range(20+1) ]\n",
    "                                                \n",
    "print(f'Lista de cuadrado de 0 al 20 {cuadrados}')"
   ]
  },
  {
   "cell_type": "code",
   "execution_count": 40,
   "id": "5227265c-b443-4d3d-9b78-fc60a6bbe521",
   "metadata": {},
   "outputs": [
    {
     "name": "stdout",
     "output_type": "stream",
     "text": [
      "--------------------------------------------------\n",
      "La lista de alumnos del colegio Politécnico Nacional\n",
      "--------------------------------------------------\n",
      "Juan\n",
      "Pedro\n",
      "María\n",
      "José\n",
      "--------------------------------------------------\n",
      "Fin de la lista\n"
     ]
    }
   ],
   "source": [
    "# Ejemplo de funciones sin retorno ni parámetros\n",
    "# Uso de variables locales y globales\n",
    "\n",
    "def print_cuerpo (lista):\n",
    "    if lista: # que significa??\n",
    "        for nombre in [ nombre.lower().capitalize() for nombre in lista]:\n",
    "            print(nombre)\n",
    "    else:\n",
    "        print('Sin estudiantes')\n",
    "\n",
    "def print_linea():\n",
    "    print('-'*50)\n",
    "\n",
    "def print_cabecera():\n",
    "    print_linea()\n",
    "    print(f'La lista de alumnos del colegio {nombre_colegio}') # solo para ver como accedo a una variable global\n",
    "    print_linea()\n",
    "\n",
    "def print_pie():\n",
    "    print_linea()\n",
    "    print('Fin de la lista')\n",
    "    print_linea\n",
    "\n",
    "# cuerpo principal\n",
    "# variables globales\n",
    "nombre_colegio = 'Politécnico Nacional'\n",
    "lista_alumnos  = [ 'JUAN', 'pedro', 'maría', 'joSé']\n",
    "\n",
    "print_cabecera()\n",
    "print_cuerpo(lista_alumnos)\n",
    "print_resumen()"
   ]
  },
  {
   "cell_type": "code",
   "execution_count": 16,
   "id": "a1b73174-c08c-4dab-a2ae-5ff48298638d",
   "metadata": {},
   "outputs": [
    {
     "name": "stdout",
     "output_type": "stream",
     "text": [
      "El promedio de números es 30.0\n"
     ]
    }
   ],
   "source": [
    "# Parámetros variables\n",
    "\n",
    "def promedio( *nros ):\n",
    "    suma = 0\n",
    "    for k in range(len(nros)):\n",
    "        suma += nros[k]\n",
    "    return suma/len(nros)\n",
    "\n",
    "prom = promedio(10,20,30,40,50)\n",
    "print(f'El promedio de números es {prom}')\n"
   ]
  },
  {
   "cell_type": "code",
   "execution_count": 46,
   "id": "40f6f3ef-9e5b-41d6-9c70-b3adde665ce6",
   "metadata": {},
   "outputs": [
    {
     "ename": "SyntaxError",
     "evalue": "invalid syntax (462333437.py, line 8)",
     "output_type": "error",
     "traceback": [
      "\u001b[0;36m  Input \u001b[0;32mIn [46]\u001b[0;36m\u001b[0m\n\u001b[0;31m    for k in range(2,n//2+1)\u001b[0m\n\u001b[0m                            ^\u001b[0m\n\u001b[0;31mSyntaxError\u001b[0m\u001b[0;31m:\u001b[0m invalid syntax\n"
     ]
    }
   ],
   "source": [
    "# Definir una función que determina si un número\n",
    "# es primo o no.\n",
    "# Luego imprimir la lista de primos entre 2 y n\n",
    "# n se lee por la entrada estándar.\n",
    "def es_primo(n) -> bool: \n",
    "    \"\"\"Determina si el nro n es primo o no.\"\"\"\n",
    "    es_primo = True\n",
    "    for k in range(2,n//2+1):\n",
    "        if ( n % k == 0 ):\n",
    "            es_primo = False\n",
    "            break\n",
    "    \n",
    "    return es_primo\n",
    "\n",
    "n = int(input('Leer n '))\n",
    "\n",
    "lista_primos = [ n for n in range(2, n+1) if es_primo(n) ]\n",
    "\n",
    "print(lista_primos)"
   ]
  },
  {
   "cell_type": "code",
   "execution_count": 20,
   "id": "ba7d40f7-ab32-49f6-8d54-5265a5b8eac6",
   "metadata": {},
   "outputs": [
    {
     "name": "stdout",
     "output_type": "stream",
     "text": [
      "La cantidad de datos enteros es 3\n"
     ]
    }
   ],
   "source": [
    "# Función que recibe una lista variable de argumentos\n",
    "# y retorna la cantidad de variables de tipo entero\n",
    "# que se ha pasado (fijarse que el parámetro que recibe lleva * por delante)\n",
    "\n",
    "def cnt_enteros ( *lista ):\n",
    "    cnt = 0\n",
    "    for e in lista:\n",
    "        if type(e) == int:\n",
    "            cnt +=1\n",
    "    return cnt\n",
    "\n",
    "cnt_enteros = cnt_enteros(10, 20, 4.3, [10,20,30], 50)\n",
    "\n",
    "print(f'La cantidad de datos enteros es {cnt_enteros}')"
   ]
  },
  {
   "cell_type": "code",
   "execution_count": 29,
   "id": "a644d852-b803-4c0c-92b7-373cbd10b99b",
   "metadata": {},
   "outputs": [
    {
     "name": "stdout",
     "output_type": "stream",
     "text": [
      "El mayor es  100\n",
      "El mayor desde la posición 2 es 40\n",
      "El mayor es None\n",
      "El mayor desde la posición 4 es 15\n"
     ]
    }
   ],
   "source": [
    "# Ejemplo de función con valor por defecto\n",
    "\n",
    "def buscar_mayor_desde( lista, desde = 0 ):\n",
    "    \"\"\"Buscar el mayor desde el parámeto desde, por defecto es cero. \n",
    "       Si desde es mayor a la longitud de lista, entonces retorna None.\n",
    "    \"\"\"\n",
    "    if desde < len(lista):\n",
    "        mayor = lista[desde]\n",
    "        for k in range(desde,len(lista)):\n",
    "            if lista[k] > mayor:\n",
    "                mayor = lista[k]\n",
    "        return mayor\n",
    "    else:\n",
    "        return None\n",
    "\n",
    "lista1 = [100,20,30,40,10,15]\n",
    "print(f'El mayor es  {buscar_mayor_desde(lista1)}')\n",
    "print(f'El mayor desde la posición 2 es {buscar_mayor_desde(lista1,2)}')\n",
    "print(f'El mayor es {buscar_mayor_desde(lista1,10)}')\n",
    "\n",
    "# Ejemplo de uso con parámetro con nombre\n",
    "print(f'El mayor desde la posición 4 es {buscar_mayor_desde(lista1,desde=4)}')\n"
   ]
  },
  {
   "cell_type": "code",
   "execution_count": 48,
   "id": "56a0f7ba-5d6a-4fd4-8045-957f93995df5",
   "metadata": {},
   "outputs": [
    {
     "name": "stdout",
     "output_type": "stream",
     "text": [
      "{'a': 1, 'b': 2, 'c': 10, 'd': 5}\n",
      "Param mayor \"c\" valor 10\n"
     ]
    }
   ],
   "source": [
    "# En este ejemplo se muestra el uso de parámetros variables con nombre\n",
    "# Retornar el nombre y el valor del parámetro mayor.\n",
    "# Fijarse que el parámetro que recibe los parámetros lleva ** por delante, esto\n",
    "# incluye nombre del parámetro y valor en forma de Diccionario.\n",
    "\n",
    "def mayor_de_varios(**args) -> int: ## es un tipo de dato llamado diccionario\n",
    "                                    ## donde cada elemento tiene dos partes\n",
    "                                    ## clave y valor.\n",
    "    print(args)\n",
    "    mayor  = list(args.values())[0] ## complicado, obtengo los valores\n",
    "                                    ## y defino el primero valor como mayor.\n",
    "    for nombre_arg in args:         ## itero por los nombres de variables\n",
    "        if args[nombre_arg] > mayor: ## accedo por el nombre\n",
    "            mayor = args[nombre_arg] ## valor del parámetro mayor\n",
    "            nomb_param_mayor = nombre_arg ## nombre del parámetro mayor\n",
    "    return nomb_param_mayor,mayor # packing (empaquetamiento)\n",
    "\n",
    "# ir cambiando los valores de los parámetros para notar el resultado\n",
    "nomb_mayor, valor_mayor = mayor_de_varios(a=1,b=2,c=10,d=5) # unpacking (desempaquetamiento)\n",
    "\n",
    "print(f'Param mayor \"{nomb_mayor}\" valor {valor_mayor}')\n"
   ]
  },
  {
   "cell_type": "markdown",
   "id": "8d876095-ef88-46c2-8ae0-86ef60378890",
   "metadata": {},
   "source": [
    "## **Práctica**\n",
    "\n",
    "Cree una libreta y escriba un texto cualquiera con título y una lista enumerada con la solución de cada ejercicio. Por cada ejercicio agregue el código Python para resolver. \n",
    "\n",
    "**ATENCIÓN**: En estos ejercicios esperamos que pueda utilizar todo lo visto incluido la definición de funciones. \n",
    "\n",
    "### Ejercicio 1\n",
    "\n",
    "Defina una función que retorne True si el parámetro recibido como parámetro, que es un número entero, es perfecto.\n",
    "\n",
    "Un número es perfecto si la suma de todos sus divisores excepto él mismo dá el mismo número.\n",
    "\n",
    "Por ejemplo el 28 es perfecto ya que `1+2+4+7+14 = 28`\n",
    "\n",
    "Utilizando lista por comprensión, crear una lista con todos los números perfectos entre 1 y un número n que se lee al principio.  \n",
    "\n",
    "Su solución debe ser algo parecido a esto:\n",
    "\n",
    "```shell\n",
    "       def es_perfecto(..) :\n",
    "           # Tu código aquí \n",
    "       \n",
    "       n = int(input('Ingrese un numero '))\n",
    "       \n",
    "       perfectos = [ # Tu codigo aqui ]\n",
    "       \n",
    "       print(f'La cantidad de números perfectos entre {1} y {n} es {len(perfectos)}')\n",
    "```\n",
    "\n",
    "### Ejercicio 2\n",
    "\n",
    "Escribir una función que determine el valor del coseno de un ángulo mediante el método de aproximación del desarrollo de Taylor. La fórmula de aproximación es la siguiente:\n",
    "$$ \\cos{x} = \\sum_{n=0}^\\infty \\frac{-1^n}{(2n)!} x^{2n} $$  \n",
    "\n",
    "$n$ indica la cantidad de iteraciones y $x$ es el valor del ángulo en radianes.\n",
    "\n",
    "En el script principal se leen dos valores, el ángulo en grados sexagesimales y la cantidad de términos a ser calculados, el valor de $n$.\n",
    "\n",
    "No utilizar el factorial del módulo _math_, desarrolle el suyo.\n",
    "\n",
    "Comparar con el valor arrojado con _math.cos_ e imprima el error (la diferencia entre ambos resultados).\n",
    "\n",
    "Debe desarrollar una función con el nombre `cos_propio()` que dado x en radianes, retorne el valor del coseno de acuerdo a la fórmula de arriba. Incluya el valor por defecto de la cantidad de iteraciones y coloque a 10.\n",
    "\n",
    "Desarrolle también la conversión de sexagesimal a radianes en una función.\n",
    "\n",
    "### Ejercicio 3\n",
    "\n",
    "Defina una función que reciba una lista de cadenas y retorne la cantidad de palabras estan en minúsculas.  \n",
    "\n",
    "Por ejemplo:\n",
    "\n",
    "```shell\n",
    "       def cant_palabras_en_minusculas(..):\n",
    "           # Tu código aquí\n",
    "           \n",
    "           \n",
    "       palabras = [ 'hola', 'que', 'tal', 'Python']\n",
    "    \n",
    "       print(f'La cantidad de palabras en minúsculas es {cant_palabras_en_minusculas(palabras)}')\n",
    "       \n",
    "``` \n",
    "\n",
    "### Ejercicio 4\n",
    "\n",
    "Diseñe una función que reciba muchos parámetos (no sabe exactamente cuantos) y determine si son todos del mismo tipo. Retorna _True_ si son todos del mismo tipo y _False_ en caso contrario.\n",
    "\n",
    "Por ejemplo:\n",
    "```shell\n",
    "       def son_todos_del_mismo_tipo ( .. ):\n",
    "           # Tu código aquí\n",
    "           \n",
    "       son_todos_del_mismo_tipo(10,20,30,40) --> True\n",
    "       son_todos_del_mismo_tipo(10,20,30,'hola') --> False\n",
    "       son_todos_del_mismo_tipo(10,20,[30],40) --> False\n",
    "       son_todos_del_mismo_tipo(10.3,2.3,3.0,4.0) --> True\n",
    "```\n",
    "### Ejercicio 5\n",
    "\n",
    "Defina una función que retorne la cantidad de veces que se repite un \n",
    "valor en una lista.\n",
    "\n",
    "Por ejemplo \n",
    "```python\n",
    "   \n",
    "    lista = [1, 2, 2, 4, 5, 2, 8, 9, 10]\n",
    "    \n",
    "    print(cnt_ocurrencias(lista,2))\n",
    "\n",
    "```  "
   ]
  },
  {
   "cell_type": "code",
   "execution_count": 60,
   "id": "fc47d60a-750d-4863-859c-e3719b1ce90b",
   "metadata": {},
   "outputs": [
    {
     "name": "stdout",
     "output_type": "stream",
     "text": [
      "0.51481884496995533596\n"
     ]
    }
   ],
   "source": [
    "import math\n",
    "\n",
    "    \n",
    "x = 1.03\n",
    "n = 10\n",
    "cos = 0\n",
    "for k in range(n+1):\n",
    "    cos += ((-1)**k / math.factorial(2*k) ) * x**(2*k)\n",
    "\n",
    "print(f'{cos:.20f}')"
   ]
  },
  {
   "cell_type": "code",
   "execution_count": 57,
   "id": "097a2dc4-8aa4-4b5f-9c66-77d05e1e270e",
   "metadata": {},
   "outputs": [
    {
     "name": "stdout",
     "output_type": "stream",
     "text": [
      "0.51481884496995533596\n"
     ]
    }
   ],
   "source": [
    "print(f'{math.cos(1.03):.20f}')"
   ]
  },
  {
   "cell_type": "code",
   "execution_count": null,
   "id": "a0c66c68-4a23-4cd1-8218-00ba32baab6a",
   "metadata": {},
   "outputs": [],
   "source": []
  }
 ],
 "metadata": {
  "kernelspec": {
   "display_name": "Python 3 (ipykernel)",
   "language": "python",
   "name": "python3"
  },
  "language_info": {
   "codemirror_mode": {
    "name": "ipython",
    "version": 3
   },
   "file_extension": ".py",
   "mimetype": "text/x-python",
   "name": "python",
   "nbconvert_exporter": "python",
   "pygments_lexer": "ipython3",
   "version": "3.8.10"
  }
 },
 "nbformat": 4,
 "nbformat_minor": 5
}
